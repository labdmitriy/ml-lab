{
 "cells": [
  {
   "cell_type": "code",
   "execution_count": 1,
   "metadata": {
    "tags": []
   },
   "outputs": [],
   "source": [
    "%load_ext autoreload\n",
    "%autoreload 2"
   ]
  },
  {
   "cell_type": "code",
   "execution_count": 2,
   "metadata": {},
   "outputs": [],
   "source": [
    "from string import ascii_lowercase\n",
    "\n",
    "from IPython.display import display\n",
    "import numpy as np\n",
    "import pandas as pd\n",
    "\n",
    "from matplotlib.patches import Patch\n",
    "import matplotlib.pyplot as plt\n",
    "from matplotlib.ticker import MaxNLocator\n",
    "%matplotlib inline\n",
    "\n",
    "from ml_lab.model_selection import GroupTimeSeriesSplit"
   ]
  },
  {
   "cell_type": "code",
   "execution_count": 3,
   "metadata": {},
   "outputs": [],
   "source": [
    "RANDOM_STATE = 42"
   ]
  },
  {
   "cell_type": "markdown",
   "metadata": {
    "tags": []
   },
   "source": [
    "## Prepare sample data"
   ]
  },
  {
   "cell_type": "markdown",
   "metadata": {},
   "source": [
    "### Monthly data"
   ]
  },
  {
   "cell_type": "code",
   "execution_count": 4,
   "metadata": {},
   "outputs": [
    {
     "data": {
      "text/plain": [
       "Index(['2021-01', '2021-02', '2021-02', '2021-02', '2021-02', '2021-03',\n",
       "       '2021-03', '2021-03', '2021-04', '2021-04', '2021-05', '2021-05',\n",
       "       '2021-06', '2021-06', '2021-06', '2021-06', '2021-07', '2021-08',\n",
       "       '2021-08', '2021-08', '2021-09', '2021-10', '2021-11', '2021-11',\n",
       "       '2021-11', '2021-12', '2021-12', '2021-12', '2021-12'],\n",
       "      dtype='object')"
      ]
     },
     "execution_count": 4,
     "metadata": {},
     "output_type": "execute_result"
    }
   ],
   "source": [
    "rng = np.random.default_rng(RANDOM_STATE)\n",
    "\n",
    "start_date = '2021-01-01'\n",
    "end_date = '2021-12-01'\n",
    "\n",
    "unique_months = pd.date_range(start_date, end_date, freq='MS').strftime('%Y-%m')\n",
    "times = rng.integers(low=1, high=5, size=len(unique_months))\n",
    "months = unique_months.repeat(times)\n",
    "months"
   ]
  },
  {
   "cell_type": "markdown",
   "metadata": {},
   "source": [
    "**Generate monthly groups**"
   ]
  },
  {
   "cell_type": "code",
   "execution_count": 5,
   "metadata": {},
   "outputs": [
    {
     "data": {
      "text/plain": [
       "array([ 0,  1,  1,  1,  1,  2,  2,  2,  3,  3,  4,  4,  5,  5,  5,  5,  6,\n",
       "        7,  7,  7,  8,  9, 10, 10, 10, 11, 11, 11, 11])"
      ]
     },
     "execution_count": 5,
     "metadata": {},
     "output_type": "execute_result"
    }
   ],
   "source": [
    "groups, _ = pd.factorize(months)\n",
    "groups"
   ]
  },
  {
   "cell_type": "markdown",
   "metadata": {},
   "source": [
    "### Features and targets"
   ]
  },
  {
   "cell_type": "code",
   "execution_count": 6,
   "metadata": {},
   "outputs": [
    {
     "data": {
      "text/html": [
       "<div>\n",
       "<style scoped>\n",
       "    .dataframe tbody tr th:only-of-type {\n",
       "        vertical-align: middle;\n",
       "    }\n",
       "\n",
       "    .dataframe tbody tr th {\n",
       "        vertical-align: top;\n",
       "    }\n",
       "\n",
       "    .dataframe thead th {\n",
       "        text-align: right;\n",
       "    }\n",
       "</style>\n",
       "<table border=\"1\" class=\"dataframe\">\n",
       "  <thead>\n",
       "    <tr style=\"text-align: right;\">\n",
       "      <th></th>\n",
       "      <th>num_feature</th>\n",
       "    </tr>\n",
       "  </thead>\n",
       "  <tbody>\n",
       "    <tr>\n",
       "      <th>2021-01</th>\n",
       "      <td>0.773956</td>\n",
       "    </tr>\n",
       "    <tr>\n",
       "      <th>2021-02</th>\n",
       "      <td>0.438878</td>\n",
       "    </tr>\n",
       "    <tr>\n",
       "      <th>2021-02</th>\n",
       "      <td>0.858598</td>\n",
       "    </tr>\n",
       "    <tr>\n",
       "      <th>2021-02</th>\n",
       "      <td>0.697368</td>\n",
       "    </tr>\n",
       "    <tr>\n",
       "      <th>2021-02</th>\n",
       "      <td>0.094177</td>\n",
       "    </tr>\n",
       "  </tbody>\n",
       "</table>\n",
       "</div>"
      ],
      "text/plain": [
       "         num_feature\n",
       "2021-01     0.773956\n",
       "2021-02     0.438878\n",
       "2021-02     0.858598\n",
       "2021-02     0.697368\n",
       "2021-02     0.094177"
      ]
     },
     "metadata": {},
     "output_type": "display_data"
    },
    {
     "data": {
      "text/plain": [
       "0    1\n",
       "1    1\n",
       "2    1\n",
       "3    1\n",
       "4    0\n",
       "Name: target, dtype: int64"
      ]
     },
     "metadata": {},
     "output_type": "display_data"
    }
   ],
   "source": [
    "rng = np.random.default_rng(RANDOM_STATE)\n",
    "\n",
    "data_size = len(groups)\n",
    "\n",
    "num_feature = rng.random(data_size)\n",
    "X = pd.DataFrame({\n",
    "    'num_feature': num_feature\n",
    "}, index=months)\n",
    "\n",
    "targets = rng.choice([0, 1], size=data_size)\n",
    "y = pd.Series(targets, name='target')\n",
    "\n",
    "display(X.head(), y.head())"
   ]
  },
  {
   "cell_type": "markdown",
   "metadata": {},
   "source": [
    "## Define test function"
   ]
  },
  {
   "cell_type": "code",
   "execution_count": 7,
   "metadata": {},
   "outputs": [],
   "source": [
    "def test_cv(X, y, groups, **cv_args):\n",
    "    cv = GroupTimeSeriesSplit(**cv_args)\n",
    "    \n",
    "    for train_idx, test_idx in cv.split(X, groups=groups):\n",
    "        print('TRAIN INDICES:', train_idx)\n",
    "        print('TEST INDICES:', test_idx)\n",
    "        print('TRAIN LENGTH:', len(train_idx))\n",
    "        print('TEST LENGTH:', len(test_idx))\n",
    "        print('TRAIN GROUPS:', groups[train_idx]) \n",
    "        print('TEST GROUPS:', groups[test_idx])\n",
    "        print('TRAIN GROUP SIZE:', len(set(groups[train_idx]))) \n",
    "        print('TEST GROUP SIZE:', len(set(groups[test_idx])))\n",
    "        print('TRAIN GROUP MONTHS:', X.index[train_idx].values) \n",
    "        print('TEST GROUP MONTHS:', X.index[test_idx].values)\n",
    "        print()"
   ]
  },
  {
   "cell_type": "markdown",
   "metadata": {
    "tags": []
   },
   "source": [
    "## Check train/test split"
   ]
  },
  {
   "cell_type": "code",
   "execution_count": 8,
   "metadata": {},
   "outputs": [],
   "source": [
    "cv_args = {\n",
    "    'test_size': 3, \n",
    "    'n_splits': 1,\n",
    "    'gap': 0\n",
    "}"
   ]
  },
  {
   "cell_type": "code",
   "execution_count": 9,
   "metadata": {},
   "outputs": [
    {
     "name": "stdout",
     "output_type": "stream",
     "text": [
      "TRAIN INDICES: [ 0  1  2  3  4  5  6  7  8  9 10 11 12 13 14 15 16 17 18 19 20]\n",
      "TEST INDICES: [21 22 23 24 25 26 27 28]\n",
      "TRAIN LENGTH: 21\n",
      "TEST LENGTH: 8\n",
      "TRAIN GROUPS: [0 1 1 1 1 2 2 2 3 3 4 4 5 5 5 5 6 7 7 7 8]\n",
      "TEST GROUPS: [ 9 10 10 10 11 11 11 11]\n",
      "TRAIN GROUP SIZE: 9\n",
      "TEST GROUP SIZE: 3\n",
      "TRAIN GROUP MONTHS: ['2021-01' '2021-02' '2021-02' '2021-02' '2021-02' '2021-03' '2021-03'\n",
      " '2021-03' '2021-04' '2021-04' '2021-05' '2021-05' '2021-06' '2021-06'\n",
      " '2021-06' '2021-06' '2021-07' '2021-08' '2021-08' '2021-08' '2021-09']\n",
      "TEST GROUP MONTHS: ['2021-10' '2021-11' '2021-11' '2021-11' '2021-12' '2021-12' '2021-12'\n",
      " '2021-12']\n",
      "\n"
     ]
    }
   ],
   "source": [
    "test_cv(X, y, groups, **cv_args)"
   ]
  },
  {
   "cell_type": "code",
   "execution_count": 10,
   "metadata": {},
   "outputs": [],
   "source": [
    "cv = GroupTimeSeriesSplit(**cv_args)\n",
    "train_idx, test_idx = next(cv.split(X, groups=groups))"
   ]
  },
  {
   "cell_type": "markdown",
   "metadata": {},
   "source": [
    "## Check cross-validation split"
   ]
  },
  {
   "cell_type": "code",
   "execution_count": 11,
   "metadata": {},
   "outputs": [],
   "source": [
    "X_train = X.iloc[train_idx]\n",
    "y_train = y.iloc[train_idx]\n",
    "groups_train = groups[train_idx]"
   ]
  },
  {
   "cell_type": "markdown",
   "metadata": {},
   "source": [
    "### Failed cases"
   ]
  },
  {
   "cell_type": "markdown",
   "metadata": {},
   "source": [
    "- Groups are not sorted\n",
    "- Both train_size and n_splits are specified\n",
    "- Incorrect window name\n",
    "- Specify train_size with expanding window\n",
    "- Not enough data (too many number of splits)\n",
    "- Not enough data (too large value of shift size)\n",
    "- Not enough data (too large value of gap)\n",
    "- Repeated usage of the same cv object\n",
    "- (TODO) Incorrect range of parameters"
   ]
  },
  {
   "cell_type": "markdown",
   "metadata": {},
   "source": [
    "**Groups are not sorted**"
   ]
  },
  {
   "cell_type": "code",
   "execution_count": 12,
   "metadata": {},
   "outputs": [
    {
     "data": {
      "text/plain": [
       "array([6, 4, 5, 8, 5, 5, 2, 2, 3, 1, 0, 7, 2, 4, 7, 1, 1, 7, 1, 5, 3])"
      ]
     },
     "execution_count": 12,
     "metadata": {},
     "output_type": "execute_result"
    }
   ],
   "source": [
    "rng = np.random.default_rng(RANDOM_STATE)\n",
    "\n",
    "unsorted_groups_train = groups_train.copy()\n",
    "rng.shuffle(unsorted_groups_train)\n",
    "\n",
    "unsorted_groups_train"
   ]
  },
  {
   "cell_type": "code",
   "execution_count": 13,
   "metadata": {},
   "outputs": [
    {
     "name": "stdout",
     "output_type": "stream",
     "text": [
      "Groups must be presorted in increasing order\n"
     ]
    }
   ],
   "source": [
    "try:\n",
    "    test_cv(X_train, y_train, unsorted_groups_train, **cv_args)\n",
    "except ValueError as e:\n",
    "    print(e)"
   ]
  },
  {
   "cell_type": "markdown",
   "metadata": {},
   "source": [
    "**Both train_size and n_splits are not specified**"
   ]
  },
  {
   "cell_type": "code",
   "execution_count": 14,
   "metadata": {},
   "outputs": [
    {
     "name": "stdout",
     "output_type": "stream",
     "text": [
      "Either train_size or n_splits have to be defined\n"
     ]
    }
   ],
   "source": [
    "cv_args = {\n",
    "    'test_size': 3\n",
    "}\n",
    "\n",
    "try:\n",
    "    test_cv(X_train, y_train, groups_train, **cv_args)\n",
    "except ValueError as e:\n",
    "    print(e)"
   ]
  },
  {
   "cell_type": "markdown",
   "metadata": {},
   "source": [
    "**Incorrect window name**"
   ]
  },
  {
   "cell_type": "code",
   "execution_count": 15,
   "metadata": {},
   "outputs": [
    {
     "name": "stdout",
     "output_type": "stream",
     "text": [
      "Window can be either \"rolling\" or \"expanding\"\n"
     ]
    }
   ],
   "source": [
    "cv_args = {\n",
    "    'test_size': 3,\n",
    "    'n_splits': 3,\n",
    "    'window': 'bad_name'\n",
    "}\n",
    "\n",
    "try:\n",
    "    test_cv(X_train, y_train, groups_train, **cv_args)\n",
    "except ValueError as e:\n",
    "    print(e)"
   ]
  },
  {
   "cell_type": "markdown",
   "metadata": {},
   "source": [
    "**Specify train_size with expanding window**"
   ]
  },
  {
   "cell_type": "code",
   "execution_count": 16,
   "metadata": {},
   "outputs": [
    {
     "name": "stdout",
     "output_type": "stream",
     "text": [
      "Train size can be specified only with rolling window\n"
     ]
    }
   ],
   "source": [
    "cv_args = {\n",
    "    'test_size': 3,\n",
    "    'train_size': 3,\n",
    "    'window': 'expanding'\n",
    "}\n",
    "\n",
    "try:\n",
    "    test_cv(X_train, y_train, groups_train, **cv_args)\n",
    "except ValueError as e:\n",
    "    print(e)"
   ]
  },
  {
   "cell_type": "markdown",
   "metadata": {},
   "source": [
    "**Not enough data (too large train_size and/or n_splits)**"
   ]
  },
  {
   "cell_type": "code",
   "execution_count": 17,
   "metadata": {},
   "outputs": [
    {
     "name": "stdout",
     "output_type": "stream",
     "text": [
      "Not enough data to split number of groups (9) for number splits (1) with train size (7), test size (3), gap (0), shift_size (1)\n"
     ]
    }
   ],
   "source": [
    "cv_args = {\n",
    "    'test_size': 3,\n",
    "    'train_size': 7, \n",
    "    'n_splits': 1\n",
    "}\n",
    "\n",
    "try:\n",
    "    test_cv(X_train, y_train, groups_train, **cv_args)\n",
    "except ValueError as e:\n",
    "    print(e)"
   ]
  },
  {
   "cell_type": "markdown",
   "metadata": {},
   "source": [
    "**Not enough data (too many number of splits)**"
   ]
  },
  {
   "cell_type": "code",
   "execution_count": 18,
   "metadata": {},
   "outputs": [
    {
     "name": "stdout",
     "output_type": "stream",
     "text": [
      "Not enough data to split number of groups (9) for number splits (10) with train size (-3), test size (3), gap (0), shift_size (1)\n"
     ]
    }
   ],
   "source": [
    "cv_args = {\n",
    "    'test_size': 3,\n",
    "    'n_splits': 10\n",
    "}\n",
    "\n",
    "try:\n",
    "    test_cv(X_train, y_train, groups_train, **cv_args)\n",
    "except ValueError as e:\n",
    "    print(e)"
   ]
  },
  {
   "cell_type": "markdown",
   "metadata": {},
   "source": [
    "**Not enough data (too large values of shift size)**"
   ]
  },
  {
   "cell_type": "code",
   "execution_count": 19,
   "metadata": {},
   "outputs": [
    {
     "name": "stdout",
     "output_type": "stream",
     "text": [
      "Not enough data to split number of groups (9) for number splits (3) with train size (-14), test size (3), gap (0), shift_size (10)\n"
     ]
    }
   ],
   "source": [
    "cv_args = {\n",
    "    'test_size': 3,\n",
    "    'n_splits': 3,\n",
    "    'shift_size': 10\n",
    "}\n",
    "\n",
    "try:\n",
    "    test_cv(X_train, y_train, groups_train, **cv_args)\n",
    "except ValueError as e:\n",
    "    print(e)"
   ]
  },
  {
   "cell_type": "markdown",
   "metadata": {},
   "source": [
    "**Not enough data (too large values of gap)**"
   ]
  },
  {
   "cell_type": "code",
   "execution_count": 20,
   "metadata": {},
   "outputs": [
    {
     "name": "stdout",
     "output_type": "stream",
     "text": [
      "Not enough data to split number of groups (9) for number splits (3) with train size (-6), test size (3), gap (10), shift_size (1)\n"
     ]
    }
   ],
   "source": [
    "cv_args = {\n",
    "    'test_size': 3,\n",
    "    'n_splits': 3,\n",
    "    'gap': 10\n",
    "}\n",
    "\n",
    "try:\n",
    "    test_cv(X_train, y_train, groups_train, **cv_args)\n",
    "except ValueError as e:\n",
    "    print(e)"
   ]
  },
  {
   "cell_type": "markdown",
   "metadata": {
    "tags": []
   },
   "source": [
    "### Success cases"
   ]
  },
  {
   "cell_type": "markdown",
   "metadata": {},
   "source": [
    "- test_size + train_size \n",
    "- test_size + n_splits\n",
    "- test_size + n_splits + gap\n",
    "- test_size + n_splits + shift_size\n",
    "- test_size + n_splits + expanding window\n",
    "- test_size + train_size + n_splits\n",
    "- Repeated usage of the same object"
   ]
  },
  {
   "cell_type": "markdown",
   "metadata": {},
   "source": [
    "**test_size + train_size**"
   ]
  },
  {
   "cell_type": "code",
   "execution_count": 21,
   "metadata": {},
   "outputs": [
    {
     "name": "stdout",
     "output_type": "stream",
     "text": [
      "TRAIN INDICES: [0 1 2 3 4 5 6 7]\n",
      "TEST INDICES: [ 8  9 10 11 12 13 14 15]\n",
      "TRAIN LENGTH: 8\n",
      "TEST LENGTH: 8\n",
      "TRAIN GROUPS: [0 1 1 1 1 2 2 2]\n",
      "TEST GROUPS: [3 3 4 4 5 5 5 5]\n",
      "TRAIN GROUP SIZE: 3\n",
      "TEST GROUP SIZE: 3\n",
      "TRAIN GROUP MONTHS: ['2021-01' '2021-02' '2021-02' '2021-02' '2021-02' '2021-03' '2021-03'\n",
      " '2021-03']\n",
      "TEST GROUP MONTHS: ['2021-04' '2021-04' '2021-05' '2021-05' '2021-06' '2021-06' '2021-06'\n",
      " '2021-06']\n",
      "\n",
      "TRAIN INDICES: [1 2 3 4 5 6 7 8 9]\n",
      "TEST INDICES: [10 11 12 13 14 15 16]\n",
      "TRAIN LENGTH: 9\n",
      "TEST LENGTH: 7\n",
      "TRAIN GROUPS: [1 1 1 1 2 2 2 3 3]\n",
      "TEST GROUPS: [4 4 5 5 5 5 6]\n",
      "TRAIN GROUP SIZE: 3\n",
      "TEST GROUP SIZE: 3\n",
      "TRAIN GROUP MONTHS: ['2021-02' '2021-02' '2021-02' '2021-02' '2021-03' '2021-03' '2021-03'\n",
      " '2021-04' '2021-04']\n",
      "TEST GROUP MONTHS: ['2021-05' '2021-05' '2021-06' '2021-06' '2021-06' '2021-06' '2021-07']\n",
      "\n",
      "TRAIN INDICES: [ 5  6  7  8  9 10 11]\n",
      "TEST INDICES: [12 13 14 15 16 17 18 19]\n",
      "TRAIN LENGTH: 7\n",
      "TEST LENGTH: 8\n",
      "TRAIN GROUPS: [2 2 2 3 3 4 4]\n",
      "TEST GROUPS: [5 5 5 5 6 7 7 7]\n",
      "TRAIN GROUP SIZE: 3\n",
      "TEST GROUP SIZE: 3\n",
      "TRAIN GROUP MONTHS: ['2021-03' '2021-03' '2021-03' '2021-04' '2021-04' '2021-05' '2021-05']\n",
      "TEST GROUP MONTHS: ['2021-06' '2021-06' '2021-06' '2021-06' '2021-07' '2021-08' '2021-08'\n",
      " '2021-08']\n",
      "\n",
      "TRAIN INDICES: [ 8  9 10 11 12 13 14 15]\n",
      "TEST INDICES: [16 17 18 19 20]\n",
      "TRAIN LENGTH: 8\n",
      "TEST LENGTH: 5\n",
      "TRAIN GROUPS: [3 3 4 4 5 5 5 5]\n",
      "TEST GROUPS: [6 7 7 7 8]\n",
      "TRAIN GROUP SIZE: 3\n",
      "TEST GROUP SIZE: 3\n",
      "TRAIN GROUP MONTHS: ['2021-04' '2021-04' '2021-05' '2021-05' '2021-06' '2021-06' '2021-06'\n",
      " '2021-06']\n",
      "TEST GROUP MONTHS: ['2021-07' '2021-08' '2021-08' '2021-08' '2021-09']\n",
      "\n"
     ]
    }
   ],
   "source": [
    "cv_args = {\n",
    "    'test_size': 3,\n",
    "    'train_size': 3\n",
    "}\n",
    "\n",
    "test_cv(X_train, y_train, groups_train, **cv_args)"
   ]
  },
  {
   "cell_type": "markdown",
   "metadata": {},
   "source": [
    "**test_size + n_splits**"
   ]
  },
  {
   "cell_type": "code",
   "execution_count": 22,
   "metadata": {},
   "outputs": [
    {
     "name": "stdout",
     "output_type": "stream",
     "text": [
      "TRAIN INDICES: [0 1 2 3 4 5 6 7 8 9]\n",
      "TEST INDICES: [10 11 12 13 14 15 16]\n",
      "TRAIN LENGTH: 10\n",
      "TEST LENGTH: 7\n",
      "TRAIN GROUPS: [0 1 1 1 1 2 2 2 3 3]\n",
      "TEST GROUPS: [4 4 5 5 5 5 6]\n",
      "TRAIN GROUP SIZE: 4\n",
      "TEST GROUP SIZE: 3\n",
      "TRAIN GROUP MONTHS: ['2021-01' '2021-02' '2021-02' '2021-02' '2021-02' '2021-03' '2021-03'\n",
      " '2021-03' '2021-04' '2021-04']\n",
      "TEST GROUP MONTHS: ['2021-05' '2021-05' '2021-06' '2021-06' '2021-06' '2021-06' '2021-07']\n",
      "\n",
      "TRAIN INDICES: [ 1  2  3  4  5  6  7  8  9 10 11]\n",
      "TEST INDICES: [12 13 14 15 16 17 18 19]\n",
      "TRAIN LENGTH: 11\n",
      "TEST LENGTH: 8\n",
      "TRAIN GROUPS: [1 1 1 1 2 2 2 3 3 4 4]\n",
      "TEST GROUPS: [5 5 5 5 6 7 7 7]\n",
      "TRAIN GROUP SIZE: 4\n",
      "TEST GROUP SIZE: 3\n",
      "TRAIN GROUP MONTHS: ['2021-02' '2021-02' '2021-02' '2021-02' '2021-03' '2021-03' '2021-03'\n",
      " '2021-04' '2021-04' '2021-05' '2021-05']\n",
      "TEST GROUP MONTHS: ['2021-06' '2021-06' '2021-06' '2021-06' '2021-07' '2021-08' '2021-08'\n",
      " '2021-08']\n",
      "\n",
      "TRAIN INDICES: [ 5  6  7  8  9 10 11 12 13 14 15]\n",
      "TEST INDICES: [16 17 18 19 20]\n",
      "TRAIN LENGTH: 11\n",
      "TEST LENGTH: 5\n",
      "TRAIN GROUPS: [2 2 2 3 3 4 4 5 5 5 5]\n",
      "TEST GROUPS: [6 7 7 7 8]\n",
      "TRAIN GROUP SIZE: 4\n",
      "TEST GROUP SIZE: 3\n",
      "TRAIN GROUP MONTHS: ['2021-03' '2021-03' '2021-03' '2021-04' '2021-04' '2021-05' '2021-05'\n",
      " '2021-06' '2021-06' '2021-06' '2021-06']\n",
      "TEST GROUP MONTHS: ['2021-07' '2021-08' '2021-08' '2021-08' '2021-09']\n",
      "\n"
     ]
    }
   ],
   "source": [
    "cv_args = {\n",
    "    'test_size': 3,\n",
    "    'n_splits': 3\n",
    "}\n",
    "\n",
    "test_cv(X_train, y_train, groups_train, **cv_args)"
   ]
  },
  {
   "cell_type": "markdown",
   "metadata": {},
   "source": [
    "**test_size + n_splits + gap**"
   ]
  },
  {
   "cell_type": "code",
   "execution_count": 23,
   "metadata": {},
   "outputs": [
    {
     "name": "stdout",
     "output_type": "stream",
     "text": [
      "TRAIN INDICES: [0 1 2 3 4]\n",
      "TEST INDICES: [10 11 12 13 14 15 16]\n",
      "TRAIN LENGTH: 5\n",
      "TEST LENGTH: 7\n",
      "TRAIN GROUPS: [0 1 1 1 1]\n",
      "TEST GROUPS: [4 4 5 5 5 5 6]\n",
      "TRAIN GROUP SIZE: 2\n",
      "TEST GROUP SIZE: 3\n",
      "TRAIN GROUP MONTHS: ['2021-01' '2021-02' '2021-02' '2021-02' '2021-02']\n",
      "TEST GROUP MONTHS: ['2021-05' '2021-05' '2021-06' '2021-06' '2021-06' '2021-06' '2021-07']\n",
      "\n",
      "TRAIN INDICES: [1 2 3 4 5 6 7]\n",
      "TEST INDICES: [12 13 14 15 16 17 18 19]\n",
      "TRAIN LENGTH: 7\n",
      "TEST LENGTH: 8\n",
      "TRAIN GROUPS: [1 1 1 1 2 2 2]\n",
      "TEST GROUPS: [5 5 5 5 6 7 7 7]\n",
      "TRAIN GROUP SIZE: 2\n",
      "TEST GROUP SIZE: 3\n",
      "TRAIN GROUP MONTHS: ['2021-02' '2021-02' '2021-02' '2021-02' '2021-03' '2021-03' '2021-03']\n",
      "TEST GROUP MONTHS: ['2021-06' '2021-06' '2021-06' '2021-06' '2021-07' '2021-08' '2021-08'\n",
      " '2021-08']\n",
      "\n",
      "TRAIN INDICES: [5 6 7 8 9]\n",
      "TEST INDICES: [16 17 18 19 20]\n",
      "TRAIN LENGTH: 5\n",
      "TEST LENGTH: 5\n",
      "TRAIN GROUPS: [2 2 2 3 3]\n",
      "TEST GROUPS: [6 7 7 7 8]\n",
      "TRAIN GROUP SIZE: 2\n",
      "TEST GROUP SIZE: 3\n",
      "TRAIN GROUP MONTHS: ['2021-03' '2021-03' '2021-03' '2021-04' '2021-04']\n",
      "TEST GROUP MONTHS: ['2021-07' '2021-08' '2021-08' '2021-08' '2021-09']\n",
      "\n"
     ]
    }
   ],
   "source": [
    "cv_args = {\n",
    "    'test_size': 3,\n",
    "    'n_splits': 3,\n",
    "    'gap': 2\n",
    "}\n",
    "\n",
    "test_cv(X_train, y_train, groups_train, **cv_args)"
   ]
  },
  {
   "cell_type": "markdown",
   "metadata": {},
   "source": [
    "**test_size + n_splits + shift_size**"
   ]
  },
  {
   "cell_type": "code",
   "execution_count": 24,
   "metadata": {},
   "outputs": [
    {
     "name": "stdout",
     "output_type": "stream",
     "text": [
      "TRAIN INDICES: [0 1 2 3 4]\n",
      "TEST INDICES: [ 5  6  7  8  9 10 11]\n",
      "TRAIN LENGTH: 5\n",
      "TEST LENGTH: 7\n",
      "TRAIN GROUPS: [0 1 1 1 1]\n",
      "TEST GROUPS: [2 2 2 3 3 4 4]\n",
      "TRAIN GROUP SIZE: 2\n",
      "TEST GROUP SIZE: 3\n",
      "TRAIN GROUP MONTHS: ['2021-01' '2021-02' '2021-02' '2021-02' '2021-02']\n",
      "TEST GROUP MONTHS: ['2021-03' '2021-03' '2021-03' '2021-04' '2021-04' '2021-05' '2021-05']\n",
      "\n",
      "TRAIN INDICES: [5 6 7 8 9]\n",
      "TEST INDICES: [10 11 12 13 14 15 16]\n",
      "TRAIN LENGTH: 5\n",
      "TEST LENGTH: 7\n",
      "TRAIN GROUPS: [2 2 2 3 3]\n",
      "TEST GROUPS: [4 4 5 5 5 5 6]\n",
      "TRAIN GROUP SIZE: 2\n",
      "TEST GROUP SIZE: 3\n",
      "TRAIN GROUP MONTHS: ['2021-03' '2021-03' '2021-03' '2021-04' '2021-04']\n",
      "TEST GROUP MONTHS: ['2021-05' '2021-05' '2021-06' '2021-06' '2021-06' '2021-06' '2021-07']\n",
      "\n",
      "TRAIN INDICES: [10 11 12 13 14 15]\n",
      "TEST INDICES: [16 17 18 19 20]\n",
      "TRAIN LENGTH: 6\n",
      "TEST LENGTH: 5\n",
      "TRAIN GROUPS: [4 4 5 5 5 5]\n",
      "TEST GROUPS: [6 7 7 7 8]\n",
      "TRAIN GROUP SIZE: 2\n",
      "TEST GROUP SIZE: 3\n",
      "TRAIN GROUP MONTHS: ['2021-05' '2021-05' '2021-06' '2021-06' '2021-06' '2021-06']\n",
      "TEST GROUP MONTHS: ['2021-07' '2021-08' '2021-08' '2021-08' '2021-09']\n",
      "\n"
     ]
    }
   ],
   "source": [
    "cv_args = {\n",
    "    'test_size': 3,\n",
    "    'n_splits': 3,\n",
    "    'shift_size': 2\n",
    "}\n",
    "\n",
    "test_cv(X_train, y_train, groups_train, **cv_args)"
   ]
  },
  {
   "cell_type": "markdown",
   "metadata": {},
   "source": [
    "**test_size + n_splits + expanding window**"
   ]
  },
  {
   "cell_type": "code",
   "execution_count": 25,
   "metadata": {},
   "outputs": [
    {
     "name": "stdout",
     "output_type": "stream",
     "text": [
      "TRAIN INDICES: [0 1 2 3 4 5 6 7 8 9]\n",
      "TEST INDICES: [10 11 12 13 14 15 16]\n",
      "TRAIN LENGTH: 10\n",
      "TEST LENGTH: 7\n",
      "TRAIN GROUPS: [0 1 1 1 1 2 2 2 3 3]\n",
      "TEST GROUPS: [4 4 5 5 5 5 6]\n",
      "TRAIN GROUP SIZE: 4\n",
      "TEST GROUP SIZE: 3\n",
      "TRAIN GROUP MONTHS: ['2021-01' '2021-02' '2021-02' '2021-02' '2021-02' '2021-03' '2021-03'\n",
      " '2021-03' '2021-04' '2021-04']\n",
      "TEST GROUP MONTHS: ['2021-05' '2021-05' '2021-06' '2021-06' '2021-06' '2021-06' '2021-07']\n",
      "\n",
      "TRAIN INDICES: [ 0  1  2  3  4  5  6  7  8  9 10 11]\n",
      "TEST INDICES: [12 13 14 15 16 17 18 19]\n",
      "TRAIN LENGTH: 12\n",
      "TEST LENGTH: 8\n",
      "TRAIN GROUPS: [0 1 1 1 1 2 2 2 3 3 4 4]\n",
      "TEST GROUPS: [5 5 5 5 6 7 7 7]\n",
      "TRAIN GROUP SIZE: 5\n",
      "TEST GROUP SIZE: 3\n",
      "TRAIN GROUP MONTHS: ['2021-01' '2021-02' '2021-02' '2021-02' '2021-02' '2021-03' '2021-03'\n",
      " '2021-03' '2021-04' '2021-04' '2021-05' '2021-05']\n",
      "TEST GROUP MONTHS: ['2021-06' '2021-06' '2021-06' '2021-06' '2021-07' '2021-08' '2021-08'\n",
      " '2021-08']\n",
      "\n",
      "TRAIN INDICES: [ 0  1  2  3  4  5  6  7  8  9 10 11 12 13 14 15]\n",
      "TEST INDICES: [16 17 18 19 20]\n",
      "TRAIN LENGTH: 16\n",
      "TEST LENGTH: 5\n",
      "TRAIN GROUPS: [0 1 1 1 1 2 2 2 3 3 4 4 5 5 5 5]\n",
      "TEST GROUPS: [6 7 7 7 8]\n",
      "TRAIN GROUP SIZE: 6\n",
      "TEST GROUP SIZE: 3\n",
      "TRAIN GROUP MONTHS: ['2021-01' '2021-02' '2021-02' '2021-02' '2021-02' '2021-03' '2021-03'\n",
      " '2021-03' '2021-04' '2021-04' '2021-05' '2021-05' '2021-06' '2021-06'\n",
      " '2021-06' '2021-06']\n",
      "TEST GROUP MONTHS: ['2021-07' '2021-08' '2021-08' '2021-08' '2021-09']\n",
      "\n"
     ]
    }
   ],
   "source": [
    "cv_args = {\n",
    "    'test_size': 3,\n",
    "    'n_splits': 3,\n",
    "    'window': 'expanding'\n",
    "}\n",
    "\n",
    "test_cv(X_train, y_train, groups_train, **cv_args)"
   ]
  },
  {
   "cell_type": "markdown",
   "metadata": {},
   "source": [
    "**test_size + train_size + n_splits (full usage of data)**"
   ]
  },
  {
   "cell_type": "code",
   "execution_count": 26,
   "metadata": {},
   "outputs": [
    {
     "name": "stdout",
     "output_type": "stream",
     "text": [
      "TRAIN INDICES: [0 1 2 3 4 5 6 7]\n",
      "TEST INDICES: [ 8  9 10 11 12 13 14 15]\n",
      "TRAIN LENGTH: 8\n",
      "TEST LENGTH: 8\n",
      "TRAIN GROUPS: [0 1 1 1 1 2 2 2]\n",
      "TEST GROUPS: [3 3 4 4 5 5 5 5]\n",
      "TRAIN GROUP SIZE: 3\n",
      "TEST GROUP SIZE: 3\n",
      "TRAIN GROUP MONTHS: ['2021-01' '2021-02' '2021-02' '2021-02' '2021-02' '2021-03' '2021-03'\n",
      " '2021-03']\n",
      "TEST GROUP MONTHS: ['2021-04' '2021-04' '2021-05' '2021-05' '2021-06' '2021-06' '2021-06'\n",
      " '2021-06']\n",
      "\n",
      "TRAIN INDICES: [1 2 3 4 5 6 7 8 9]\n",
      "TEST INDICES: [10 11 12 13 14 15 16]\n",
      "TRAIN LENGTH: 9\n",
      "TEST LENGTH: 7\n",
      "TRAIN GROUPS: [1 1 1 1 2 2 2 3 3]\n",
      "TEST GROUPS: [4 4 5 5 5 5 6]\n",
      "TRAIN GROUP SIZE: 3\n",
      "TEST GROUP SIZE: 3\n",
      "TRAIN GROUP MONTHS: ['2021-02' '2021-02' '2021-02' '2021-02' '2021-03' '2021-03' '2021-03'\n",
      " '2021-04' '2021-04']\n",
      "TEST GROUP MONTHS: ['2021-05' '2021-05' '2021-06' '2021-06' '2021-06' '2021-06' '2021-07']\n",
      "\n",
      "TRAIN INDICES: [ 5  6  7  8  9 10 11]\n",
      "TEST INDICES: [12 13 14 15 16 17 18 19]\n",
      "TRAIN LENGTH: 7\n",
      "TEST LENGTH: 8\n",
      "TRAIN GROUPS: [2 2 2 3 3 4 4]\n",
      "TEST GROUPS: [5 5 5 5 6 7 7 7]\n",
      "TRAIN GROUP SIZE: 3\n",
      "TEST GROUP SIZE: 3\n",
      "TRAIN GROUP MONTHS: ['2021-03' '2021-03' '2021-03' '2021-04' '2021-04' '2021-05' '2021-05']\n",
      "TEST GROUP MONTHS: ['2021-06' '2021-06' '2021-06' '2021-06' '2021-07' '2021-08' '2021-08'\n",
      " '2021-08']\n",
      "\n",
      "TRAIN INDICES: [ 8  9 10 11 12 13 14 15]\n",
      "TEST INDICES: [16 17 18 19 20]\n",
      "TRAIN LENGTH: 8\n",
      "TEST LENGTH: 5\n",
      "TRAIN GROUPS: [3 3 4 4 5 5 5 5]\n",
      "TEST GROUPS: [6 7 7 7 8]\n",
      "TRAIN GROUP SIZE: 3\n",
      "TEST GROUP SIZE: 3\n",
      "TRAIN GROUP MONTHS: ['2021-04' '2021-04' '2021-05' '2021-05' '2021-06' '2021-06' '2021-06'\n",
      " '2021-06']\n",
      "TEST GROUP MONTHS: ['2021-07' '2021-08' '2021-08' '2021-08' '2021-09']\n",
      "\n"
     ]
    }
   ],
   "source": [
    "cv_args = {\n",
    "    'test_size': 3,\n",
    "    'train_size': 3,\n",
    "    'n_splits': 4\n",
    "}\n",
    "\n",
    "test_cv(X_train, y_train, groups_train, **cv_args)"
   ]
  },
  {
   "cell_type": "markdown",
   "metadata": {},
   "source": [
    "**test_size + train_size + n_splits (partial usage of data)**"
   ]
  },
  {
   "cell_type": "code",
   "execution_count": 27,
   "metadata": {},
   "outputs": [
    {
     "name": "stdout",
     "output_type": "stream",
     "text": [
      "TRAIN INDICES: [ 5  6  7  8  9 10 11]\n",
      "TEST INDICES: [12 13 14 15 16 17 18 19]\n",
      "TRAIN LENGTH: 7\n",
      "TEST LENGTH: 8\n",
      "TRAIN GROUPS: [2 2 2 3 3 4 4]\n",
      "TEST GROUPS: [5 5 5 5 6 7 7 7]\n",
      "TRAIN GROUP SIZE: 3\n",
      "TEST GROUP SIZE: 3\n",
      "TRAIN GROUP MONTHS: ['2021-03' '2021-03' '2021-03' '2021-04' '2021-04' '2021-05' '2021-05']\n",
      "TEST GROUP MONTHS: ['2021-06' '2021-06' '2021-06' '2021-06' '2021-07' '2021-08' '2021-08'\n",
      " '2021-08']\n",
      "\n",
      "TRAIN INDICES: [ 8  9 10 11 12 13 14 15]\n",
      "TEST INDICES: [16 17 18 19 20]\n",
      "TRAIN LENGTH: 8\n",
      "TEST LENGTH: 5\n",
      "TRAIN GROUPS: [3 3 4 4 5 5 5 5]\n",
      "TEST GROUPS: [6 7 7 7 8]\n",
      "TRAIN GROUP SIZE: 3\n",
      "TEST GROUP SIZE: 3\n",
      "TRAIN GROUP MONTHS: ['2021-04' '2021-04' '2021-05' '2021-05' '2021-06' '2021-06' '2021-06'\n",
      " '2021-06']\n",
      "TEST GROUP MONTHS: ['2021-07' '2021-08' '2021-08' '2021-08' '2021-09']\n",
      "\n"
     ]
    }
   ],
   "source": [
    "cv_args = {\n",
    "    'test_size': 3,\n",
    "    'train_size': 3,\n",
    "    'n_splits': 2\n",
    "}\n",
    "\n",
    "test_cv(X_train, y_train, groups_train, **cv_args)"
   ]
  },
  {
   "cell_type": "markdown",
   "metadata": {},
   "source": [
    "**Repeated usage of the same cv object**"
   ]
  },
  {
   "cell_type": "code",
   "execution_count": 28,
   "metadata": {},
   "outputs": [
    {
     "name": "stdout",
     "output_type": "stream",
     "text": [
      "First usage\n",
      "(array([ 0,  1,  2,  3,  4,  5,  6,  7,  8,  9, 10, 11]), array([12, 13, 14, 15, 16, 17, 18, 19]))\n",
      "(array([ 1,  2,  3,  4,  5,  6,  7,  8,  9, 10, 11, 12, 13, 14, 15]), array([16, 17, 18, 19, 20]))\n",
      "Repeated usage\n",
      "(array([ 0,  1,  2,  3,  4,  5,  6,  7,  8,  9, 10, 11]), array([12, 13, 14, 15, 16, 17, 18, 19]))\n",
      "(array([ 1,  2,  3,  4,  5,  6,  7,  8,  9, 10, 11, 12, 13, 14, 15]), array([16, 17, 18, 19, 20]))\n"
     ]
    }
   ],
   "source": [
    "cv_args = {\n",
    "    'test_size': 3,\n",
    "    'n_splits': 2\n",
    "}\n",
    "cv = GroupTimeSeriesSplit(**cv_args)\n",
    "\n",
    "print('First usage')\n",
    "for split in cv.split(X_train, groups=groups_train):\n",
    "    print(split)\n",
    "    \n",
    "print('Repeated usage')\n",
    "for split in cv.split(X_train, groups=groups_train):\n",
    "    print(split)"
   ]
  },
  {
   "cell_type": "markdown",
   "metadata": {},
   "source": [
    "## Split visualization"
   ]
  },
  {
   "cell_type": "code",
   "execution_count": 120,
   "metadata": {},
   "outputs": [],
   "source": [
    "def plot_cv_indices(cv, X, y, groups, ax, n_splits, cmap_data, cmap_cv, lw=10):\n",
    "    \"\"\"Create a sample plot for indices of a cross-validation object.\"\"\"\n",
    "    \n",
    "    marker_size = 200\n",
    "    \n",
    "    for split_idx, (train_idx, test_idx) in enumerate(cv.split(X=X, y=y, groups=groups)):\n",
    "        indices = np.array([np.nan] * len(X))\n",
    "        indices[test_idx] = 1\n",
    "        indices[train_idx] = 0\n",
    "        \n",
    "        ax.scatter(\n",
    "            range(len(X)),\n",
    "            [split_idx + 0.5] * len(X),\n",
    "            c=indices,\n",
    "            marker=\"_\",\n",
    "            lw=lw,\n",
    "            cmap=cmap_cv,\n",
    "            vmin=-0.4,\n",
    "            vmax=1.4,\n",
    "            s=marker_size\n",
    "        )\n",
    "    ax.scatter(\n",
    "        range(len(X)), [split_idx + 1.5] * len(X), \n",
    "        c=groups, marker=\"_\", lw=lw, \n",
    "        cmap=cmap_data, s=marker_size\n",
    "    )\n",
    "\n",
    "    yticklabels = list(range(n_splits)) + ['group']\n",
    "    ax.set(\n",
    "        yticks=np.arange(n_splits + 1) + 0.5,\n",
    "        yticklabels=yticklabels,\n",
    "        ylabel='CV iteration',\n",
    "        ylim=[n_splits + 1.2, -0.2],\n",
    "        xlim=[-0.5, len(indices)-0.5]\n",
    "    )\n",
    "    ax.legend(\n",
    "        [Patch(color=cmap_cv(0.8)), Patch(color=cmap_cv(0.02))],\n",
    "        [\"Testing set\", \"Training set\"],\n",
    "        loc=(1.02, 0.8),\n",
    "        fontsize=12\n",
    "    )\n",
    "    \n",
    "    ax.set_title(\"{}\".format(type(cv).__name__), fontsize=15)\n",
    "    ax.xaxis.set_major_locator(MaxNLocator(min_n_ticks=len(X), integer=True))\n",
    "    ax.set_xlabel(xlabel='Sample index', fontsize=12)\n",
    "    ax.set_ylabel(ylabel='CV iteration', fontsize=12)\n",
    "    ax.tick_params(axis='both', which='major', labelsize=12)\n",
    "    ax.tick_params(axis='both', which='minor', labelsize=12)\n",
    "    \n",
    "    plt.tight_layout()\n",
    "    plt.show()"
   ]
  },
  {
   "cell_type": "code",
   "execution_count": 121,
   "metadata": {},
   "outputs": [
    {
     "data": {
      "image/png": "[encoded data removed]",
      "text/plain": [
       "<Figure size 864x288 with 1 Axes>"
      ]
     },
     "metadata": {
      "needs_background": "light"
     },
     "output_type": "display_data"
    }
   ],
   "source": [
    "cv_args = {\n",
    "    'test_size': 2,\n",
    "    'train_size': 4,\n",
    "    'n_splits': 3, \n",
    "    'shift_size': 2,\n",
    "    'gap': 2,\n",
    "    'window': 'rolling'\n",
    "}\n",
    "cv = GroupTimeSeriesSplit(**cv_args)\n",
    "\n",
    "fig, axes = plt.subplots(figsize=(12, 4))\n",
    "cmap_data = plt.cm.tab20\n",
    "cmap_cv = plt.cm.coolwarm\n",
    "plot_cv_indices(cv, X, y, groups, axes, cv_args['n_splits'],\n",
    "                cmap_data, cmap_cv)"
   ]
  }
 ],
 "metadata": {
  "kernelspec": {
   "display_name": "ml_lab",
   "language": "python",
   "name": "ml_lab"
  },
  "language_info": {
   "codemirror_mode": {
    "name": "ipython",
    "version": 3
   },
   "file_extension": ".py",
   "mimetype": "text/x-python",
   "name": "python",
   "nbconvert_exporter": "python",
   "pygments_lexer": "ipython3",
   "version": "3.9.7"
  }
 },
 "nbformat": 4,
 "nbformat_minor": 4
}
